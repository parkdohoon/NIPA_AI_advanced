{
  "nbformat": 4,
  "nbformat_minor": 0,
  "metadata": {
    "colab": {
      "name": "Untitled2.ipynb",
      "provenance": [],
      "collapsed_sections": [],
      "authorship_tag": "ABX9TyMdhA+ikkuFR387sWQR/0BD",
      "include_colab_link": true
    },
    "kernelspec": {
      "name": "python3",
      "display_name": "Python 3"
    },
    "language_info": {
      "name": "python"
    }
  },
  "cells": [
    {
      "cell_type": "markdown",
      "metadata": {
        "id": "view-in-github",
        "colab_type": "text"
      },
      "source": [
        "<a href=\"https://colab.research.google.com/github/parkdohoon/NIPA_AI_advanced/blob/main/Untitled2.ipynb\" target=\"_parent\"><img src=\"https://colab.research.google.com/assets/colab-badge.svg\" alt=\"Open In Colab\"/></a>"
      ]
    },
    {
      "cell_type": "code",
      "metadata": {
        "id": "4mGbraMdvNMj"
      },
      "source": [
        "import pandas as pd\n",
        "import numpy as np\n"
      ],
      "execution_count": 5,
      "outputs": []
    },
    {
      "cell_type": "code",
      "metadata": {
        "colab": {
          "base_uri": "https://localhost:8080/"
        },
        "id": "np5PlU4RvQu6",
        "outputId": "29a91379-9724-4976-a19e-3fcd9e513bed"
      },
      "source": [
        "#data loading\n",
        "titanic = pd.read_csv('titanic.csv')\n",
        "print(titanic)"
      ],
      "execution_count": 3,
      "outputs": [
        {
          "output_type": "stream",
          "name": "stdout",
          "text": [
            "     PassengerId  Survived  Pclass  ...     Fare Cabin  Embarked\n",
            "0              1         0       3  ...   7.2500   NaN         S\n",
            "1              2         1       1  ...  71.2833   C85         C\n",
            "2              3         1       3  ...   7.9250   NaN         S\n",
            "3              4         1       1  ...  53.1000  C123         S\n",
            "4              5         0       3  ...   8.0500   NaN         S\n",
            "..           ...       ...     ...  ...      ...   ...       ...\n",
            "886          887         0       2  ...  13.0000   NaN         S\n",
            "887          888         1       1  ...  30.0000   B42         S\n",
            "888          889         0       3  ...  23.4500   NaN         S\n",
            "889          890         1       1  ...  30.0000  C148         C\n",
            "890          891         0       3  ...   7.7500   NaN         Q\n",
            "\n",
            "[891 rows x 12 columns]\n"
          ]
        }
      ]
    },
    {
      "cell_type": "code",
      "metadata": {
        "colab": {
          "base_uri": "https://localhost:8080/"
        },
        "id": "e1lDW2h1vdL5",
        "outputId": "e0172520-7cd0-4507-980b-b5e7d0cfa212"
      },
      "source": [
        "print('변환전:\\n',titanic['Sex'].head())"
      ],
      "execution_count": 4,
      "outputs": [
        {
          "output_type": "stream",
          "name": "stdout",
          "text": [
            "변환전:\n",
            " 0      male\n",
            "1    female\n",
            "2    female\n",
            "3    female\n",
            "4      male\n",
            "Name: Sex, dtype: object\n"
          ]
        }
      ]
    },
    {
      "cell_type": "code",
      "metadata": {
        "colab": {
          "base_uri": "https://localhost:8080/"
        },
        "id": "N4EX1dpzwCzo",
        "outputId": "9dc36fb9-7e0a-4ad5-f744-78dfb88dcb74"
      },
      "source": [
        "titanic = titanic.replace({'male':0, 'female':1})\n",
        "print(titanic['Sex'].head())"
      ],
      "execution_count": 8,
      "outputs": [
        {
          "output_type": "stream",
          "name": "stdout",
          "text": [
            "0    0\n",
            "1    1\n",
            "2    1\n",
            "3    1\n",
            "4    0\n",
            "Name: Sex, dtype: int64\n"
          ]
        }
      ]
    },
    {
      "cell_type": "code",
      "metadata": {
        "colab": {
          "base_uri": "https://localhost:8080/"
        },
        "id": "So5tl_JryJtb",
        "outputId": "8e280d88-e34f-4747-9d25-4738fe5ee6ff"
      },
      "source": [
        "print(titanic['Embarked'].head())\n",
        "dummies = pd.get_dummies(titanic[['Embarked']])\n",
        "print(dummies.head())"
      ],
      "execution_count": 15,
      "outputs": [
        {
          "output_type": "stream",
          "name": "stdout",
          "text": [
            "0    S\n",
            "1    C\n",
            "2    S\n",
            "3    S\n",
            "4    S\n",
            "Name: Embarked, dtype: object\n",
            "   Embarked_C  Embarked_Q  Embarked_S\n",
            "0           0           0           1\n",
            "1           1           0           0\n",
            "2           0           0           1\n",
            "3           0           0           1\n",
            "4           0           0           1\n"
          ]
        }
      ]
    },
    {
      "cell_type": "code",
      "metadata": {
        "id": "YMGEqjXB0xlU"
      },
      "source": [
        "#수치형 자료 변환하기"
      ],
      "execution_count": null,
      "outputs": []
    },
    {
      "cell_type": "code",
      "metadata": {
        "colab": {
          "base_uri": "https://localhost:8080/"
        },
        "id": "igFK1IrL1M78",
        "outputId": "af07a648-83c2-4135-de64-32fa1d1174e7"
      },
      "source": [
        "# 정규화를 수행하는 함수 구현\n",
        "def normal(data) :\n",
        "  data = (data - min(data)) / (max(data) - min(data))\n",
        "  return data\n",
        "print('before : \\n', titanic['Fare'].head())\n",
        "Fare = normal(titanic['Fare'])\n",
        "print('\\nafter : \\n', Fare.head())"
      ],
      "execution_count": 16,
      "outputs": [
        {
          "output_type": "stream",
          "name": "stdout",
          "text": [
            "before : \n",
            " 0     7.2500\n",
            "1    71.2833\n",
            "2     7.9250\n",
            "3    53.1000\n",
            "4     8.0500\n",
            "Name: Fare, dtype: float64\n",
            "\n",
            "after : \n",
            " 0    0.014151\n",
            "1    0.139136\n",
            "2    0.015469\n",
            "3    0.103644\n",
            "4    0.015713\n",
            "Name: Fare, dtype: float64\n"
          ]
        }
      ]
    },
    {
      "cell_type": "code",
      "metadata": {
        "colab": {
          "base_uri": "https://localhost:8080/"
        },
        "id": "hl-q4bBU3e0Z",
        "outputId": "3ad3367c-ae3b-4c04-ba5f-a8234daf504e"
      },
      "source": [
        "#data loading\n",
        "titanic = pd.read_csv('titanic.csv')\n",
        "print(titanic)"
      ],
      "execution_count": 22,
      "outputs": [
        {
          "output_type": "stream",
          "name": "stdout",
          "text": [
            "     PassengerId  Survived  Pclass  ...     Fare Cabin  Embarked\n",
            "0              1         0       3  ...   7.2500   NaN         S\n",
            "1              2         1       1  ...  71.2833   C85         C\n",
            "2              3         1       3  ...   7.9250   NaN         S\n",
            "3              4         1       1  ...  53.1000  C123         S\n",
            "4              5         0       3  ...   8.0500   NaN         S\n",
            "..           ...       ...     ...  ...      ...   ...       ...\n",
            "886          887         0       2  ...  13.0000   NaN         S\n",
            "887          888         1       1  ...  30.0000   B42         S\n",
            "888          889         0       3  ...  23.4500   NaN         S\n",
            "889          890         1       1  ...  30.0000  C148         C\n",
            "890          891         0       3  ...   7.7500   NaN         Q\n",
            "\n",
            "[891 rows x 12 columns]\n"
          ]
        }
      ]
    },
    {
      "cell_type": "code",
      "metadata": {
        "colab": {
          "base_uri": "https://localhost:8080/"
        },
        "id": "3assMzTE2lGm",
        "outputId": "af1450e1-c1c9-4acf-ada5-dab7ece7dc66"
      },
      "source": [
        "# 표준화\n",
        "def standard(data):\n",
        "  (data - data.mean()) / data.std()\n",
        "  return data\n",
        "print('before : \\n', titanic['Fare'].head())\n",
        "Fare = standard(titanic['Fare'])\n",
        "print('after : \\n', titanic['Fare'].head())"
      ],
      "execution_count": 21,
      "outputs": [
        {
          "output_type": "stream",
          "name": "stdout",
          "text": [
            "before : \n",
            " 0     7.2500\n",
            "1    71.2833\n",
            "2     7.9250\n",
            "3    53.1000\n",
            "4     8.0500\n",
            "Name: Fare, dtype: float64\n",
            "after : \n",
            " 0     7.2500\n",
            "1    71.2833\n",
            "2     7.9250\n",
            "3    53.1000\n",
            "4     8.0500\n",
            "Name: Fare, dtype: float64\n"
          ]
        }
      ]
    },
    {
      "cell_type": "code",
      "metadata": {
        "colab": {
          "base_uri": "https://localhost:8080/"
        },
        "id": "YVJDph3r3qzv",
        "outputId": "ed8d1c59-27d6-4334-8a13-27018bf6045e"
      },
      "source": [
        "#data loading\n",
        "titanic = pd.read_csv('titanic.csv')\n",
        "print(titanic)"
      ],
      "execution_count": 23,
      "outputs": [
        {
          "output_type": "stream",
          "name": "stdout",
          "text": [
            "     PassengerId  Survived  Pclass  ...     Fare Cabin  Embarked\n",
            "0              1         0       3  ...   7.2500   NaN         S\n",
            "1              2         1       1  ...  71.2833   C85         C\n",
            "2              3         1       3  ...   7.9250   NaN         S\n",
            "3              4         1       1  ...  53.1000  C123         S\n",
            "4              5         0       3  ...   8.0500   NaN         S\n",
            "..           ...       ...     ...  ...      ...   ...       ...\n",
            "886          887         0       2  ...  13.0000   NaN         S\n",
            "887          888         1       1  ...  30.0000   B42         S\n",
            "888          889         0       3  ...  23.4500   NaN         S\n",
            "889          890         1       1  ...  30.0000  C148         C\n",
            "890          891         0       3  ...   7.7500   NaN         Q\n",
            "\n",
            "[891 rows x 12 columns]\n"
          ]
        }
      ]
    },
    {
      "cell_type": "code",
      "metadata": {
        "colab": {
          "base_uri": "https://localhost:8080/"
        },
        "id": "XEC28H3e4mBp",
        "outputId": "eac8911c-ecc9-4588-b0e2-08b6f9c886d4"
      },
      "source": [
        "print(titanic.info(),'\\n')\n",
        "#1. Cabin colum 제거\n",
        "titanic_1 = titanic.drop(columns=['Cabin'])\n",
        "print('Cabin 변수 제거')\n",
        "print(titanic_1.info(),'\\n')\n",
        "#2. 결측값이 존재하는 샘플 제거\n",
        "titanic_2 = titanic_1.dropna()\n",
        "print('결측값이 존재하는 샘플 제거')\n",
        "print(titanic_2.info())"
      ],
      "execution_count": 26,
      "outputs": [
        {
          "output_type": "stream",
          "name": "stdout",
          "text": [
            "<class 'pandas.core.frame.DataFrame'>\n",
            "RangeIndex: 891 entries, 0 to 890\n",
            "Data columns (total 12 columns):\n",
            " #   Column       Non-Null Count  Dtype  \n",
            "---  ------       --------------  -----  \n",
            " 0   PassengerId  891 non-null    int64  \n",
            " 1   Survived     891 non-null    int64  \n",
            " 2   Pclass       891 non-null    int64  \n",
            " 3   Name         891 non-null    object \n",
            " 4   Sex          891 non-null    object \n",
            " 5   Age          714 non-null    float64\n",
            " 6   SibSp        891 non-null    int64  \n",
            " 7   Parch        891 non-null    int64  \n",
            " 8   Ticket       891 non-null    object \n",
            " 9   Fare         891 non-null    float64\n",
            " 10  Cabin        204 non-null    object \n",
            " 11  Embarked     889 non-null    object \n",
            "dtypes: float64(2), int64(5), object(5)\n",
            "memory usage: 83.7+ KB\n",
            "None \n",
            "\n",
            "Cabin 변수 제거\n",
            "<class 'pandas.core.frame.DataFrame'>\n",
            "RangeIndex: 891 entries, 0 to 890\n",
            "Data columns (total 11 columns):\n",
            " #   Column       Non-Null Count  Dtype  \n",
            "---  ------       --------------  -----  \n",
            " 0   PassengerId  891 non-null    int64  \n",
            " 1   Survived     891 non-null    int64  \n",
            " 2   Pclass       891 non-null    int64  \n",
            " 3   Name         891 non-null    object \n",
            " 4   Sex          891 non-null    object \n",
            " 5   Age          714 non-null    float64\n",
            " 6   SibSp        891 non-null    int64  \n",
            " 7   Parch        891 non-null    int64  \n",
            " 8   Ticket       891 non-null    object \n",
            " 9   Fare         891 non-null    float64\n",
            " 10  Embarked     889 non-null    object \n",
            "dtypes: float64(2), int64(5), object(4)\n",
            "memory usage: 76.7+ KB\n",
            "None \n",
            "\n",
            "결측값이 존재하는 샘플 제거\n",
            "<class 'pandas.core.frame.DataFrame'>\n",
            "Int64Index: 712 entries, 0 to 890\n",
            "Data columns (total 11 columns):\n",
            " #   Column       Non-Null Count  Dtype  \n",
            "---  ------       --------------  -----  \n",
            " 0   PassengerId  712 non-null    int64  \n",
            " 1   Survived     712 non-null    int64  \n",
            " 2   Pclass       712 non-null    int64  \n",
            " 3   Name         712 non-null    object \n",
            " 4   Sex          712 non-null    object \n",
            " 5   Age          712 non-null    float64\n",
            " 6   SibSp        712 non-null    int64  \n",
            " 7   Parch        712 non-null    int64  \n",
            " 8   Ticket       712 non-null    object \n",
            " 9   Fare         712 non-null    float64\n",
            " 10  Embarked     712 non-null    object \n",
            "dtypes: float64(2), int64(5), object(4)\n",
            "memory usage: 66.8+ KB\n",
            "None\n"
          ]
        }
      ]
    },
    {
      "cell_type": "code",
      "metadata": {
        "colab": {
          "base_uri": "https://localhost:8080/"
        },
        "id": "8TxNlmyr8U7O",
        "outputId": "a66963e8-041e-4c0a-ebfd-c8c133b1f2ca"
      },
      "source": [
        "#data loading\n",
        "titanic = pd.read_csv('titanic.csv')\n",
        "print(titanic)"
      ],
      "execution_count": 27,
      "outputs": [
        {
          "output_type": "stream",
          "name": "stdout",
          "text": [
            "     PassengerId  Survived  Pclass  ...     Fare Cabin  Embarked\n",
            "0              1         0       3  ...   7.2500   NaN         S\n",
            "1              2         1       1  ...  71.2833   C85         C\n",
            "2              3         1       3  ...   7.9250   NaN         S\n",
            "3              4         1       1  ...  53.1000  C123         S\n",
            "4              5         0       3  ...   8.0500   NaN         S\n",
            "..           ...       ...     ...  ...      ...   ...       ...\n",
            "886          887         0       2  ...  13.0000   NaN         S\n",
            "887          888         1       1  ...  30.0000   B42         S\n",
            "888          889         0       3  ...  23.4500   NaN         S\n",
            "889          890         1       1  ...  30.0000  C148         C\n",
            "890          891         0       3  ...   7.7500   NaN         Q\n",
            "\n",
            "[891 rows x 12 columns]\n"
          ]
        }
      ]
    },
    {
      "cell_type": "code",
      "metadata": {
        "colab": {
          "base_uri": "https://localhost:8080/"
        },
        "id": "PSqEZEGK86w6",
        "outputId": "dcb8d9bb-b348-4284-99d7-b7db4703624f"
      },
      "source": [
        "#결측값 제거\n",
        "titanic_1 = titanic.drop(columns = ['Cabin'])\n",
        "titanic_2 = titanic_1.dropna()\n",
        "# (Age 값 - 내림 Age 값) 0 보다 크다면 소수점을 갖는 데이터로 분류합니다.\n",
        "outlier = titanic_2[titanic_2['Age']-np.floor(titanic_2['Age']) > 0 ]['Age']\n",
        "\n",
        "print('소수점을 갖는 Age 변수 이상치')\n",
        "print(outlier)\n",
        "print('이상치 처리 전 샘플 개수: %d' %(len(titanic_2)))\n",
        "print('이상치 개수: %d' %(len(outlier)))\n",
        "\n",
        "\"\"\"\n",
        "1. 이상치를 처리합니다.\n",
        "\"\"\"\n",
        "titanic_3 = titanic_2[titanic_2['Age']- np.floor(titanic_2['Age']) == 0]\n",
        "print('이상치 처리 후 샘플 개수: %d' %(len(titanic_3)))\n"
      ],
      "execution_count": 29,
      "outputs": [
        {
          "output_type": "stream",
          "name": "stdout",
          "text": [
            "소수점을 갖는 Age 변수 이상치\n",
            "57     28.50\n",
            "78      0.83\n",
            "111    14.50\n",
            "116    70.50\n",
            "122    32.50\n",
            "123    32.50\n",
            "148    36.50\n",
            "152    55.50\n",
            "153    40.50\n",
            "203    45.50\n",
            "227    20.50\n",
            "296    23.50\n",
            "305     0.92\n",
            "331    45.50\n",
            "469     0.75\n",
            "525    40.50\n",
            "644     0.75\n",
            "676    24.50\n",
            "735    28.50\n",
            "755     0.67\n",
            "767    30.50\n",
            "803     0.42\n",
            "814    30.50\n",
            "831     0.83\n",
            "843    34.50\n",
            "Name: Age, dtype: float64\n",
            "이상치 처리 전 샘플 개수: 712\n",
            "이상치 개수: 25\n",
            "이상치 처리 후 샘플 개수: 687\n"
          ]
        }
      ]
    },
    {
      "cell_type": "code",
      "metadata": {
        "id": "Yw9mBYeK9P_8"
      },
      "source": [
        ""
      ],
      "execution_count": null,
      "outputs": []
    },
    {
      "cell_type": "code",
      "metadata": {
        "id": "ZKAUfLZH9P2c"
      },
      "source": [
        ""
      ],
      "execution_count": null,
      "outputs": []
    }
  ]
}